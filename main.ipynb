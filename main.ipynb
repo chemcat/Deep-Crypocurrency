{
 "cells": [
  {
   "cell_type": "code",
   "execution_count": 1,
   "metadata": {},
   "outputs": [
    {
     "name": "stderr",
     "output_type": "stream",
     "text": [
      "Using TensorFlow backend.\n"
     ]
    }
   ],
   "source": [
    "import numpy as np\n",
    "import matplotlib.pyplot as plt\n",
    "from keras.models import Model, load_model, Sequential\n",
    "from keras.layers import Dense, Activation, Dropout, Input, Masking, TimeDistributed, LSTM, Conv1D\n",
    "from keras.layers import GRU, Bidirectional, BatchNormalization, Reshape\n",
    "from keras.optimizers import Adam\n",
    "import keras\n",
    "import pandas as pd\n",
    "import os\n",
    "%matplotlib inline\n"
   ]
  },
  {
   "cell_type": "code",
   "execution_count": 2,
   "metadata": {
    "collapsed": true
   },
   "outputs": [],
   "source": [
    "def seq_creation(symbol):\n",
    "    file_name=\"{}.csv\"\n",
    "    file_name=file_name.format(symbol)\n",
    "    raw_df=pd.read_csv(os.path.join(\"data\",file_name))\n",
    "    raw_seq=[tup for tup in raw_df[[\"price_open\",\"volume_traded\",\"trades_count\"]].values]\n",
    "    raw_seq=np.array(raw_seq)\n",
    "    return raw_seq"
   ]
  },
  {
   "cell_type": "code",
   "execution_count": 3,
   "metadata": {},
   "outputs": [
    {
     "name": "stdout",
     "output_type": "stream",
     "text": [
      "[[  430.89          41.32097223   114.        ]\n",
      " [  431.51          31.21223925    70.        ]\n",
      " [  430.            12.24623628    42.        ]\n",
      " ..., \n",
      " [ 7395.14         247.02564527  1019.        ]\n",
      " [ 7422.1          365.39099263  1168.        ]\n",
      " [ 7395.68         258.97080512  1131.        ]]\n",
      "(19776, 3)\n"
     ]
    }
   ],
   "source": [
    "test_seq=seq_creation(\"BTC1HRS\")\n",
    "print (test_seq)\n",
    "print(test_seq.shape)"
   ]
  },
  {
   "cell_type": "code",
   "execution_count": 4,
   "metadata": {
    "collapsed": true
   },
   "outputs": [],
   "source": [
    "import sklearn.preprocessing as skl\n",
    "def seq_normalization(seq):\n",
    "    \n",
    "    scaler=skl.MinMaxScaler((0,1))\n",
    "    scaler.fit(seq)\n",
    "    new_seq=scaler.transform(seq)\n",
    "    \n",
    "    return new_seq"
   ]
  },
  {
   "cell_type": "code",
   "execution_count": 5,
   "metadata": {},
   "outputs": [
    {
     "name": "stdout",
     "output_type": "stream",
     "text": [
      "[[ 0.0039849   0.00299522  0.00866849]\n",
      " [ 0.0040172   0.00225697  0.00523233]\n",
      " [ 0.00393852  0.00087188  0.00304569]\n",
      " ..., \n",
      " [ 0.36684856  0.01801792  0.07934401]\n",
      " [ 0.36825328  0.02666219  0.09098009]\n",
      " [ 0.3668767   0.01889028  0.08809059]]\n"
     ]
    }
   ],
   "source": [
    "norm_seq=seq_normalization(test_seq)\n",
    "print(norm_seq)"
   ]
  },
  {
   "cell_type": "code",
   "execution_count": 6,
   "metadata": {},
   "outputs": [
    {
     "name": "stdout",
     "output_type": "stream",
     "text": [
      "[ 0.98708452  0.01469271  0.28020305]\n"
     ]
    }
   ],
   "source": [
    "print(norm_seq[17193,:])"
   ]
  },
  {
   "cell_type": "code",
   "execution_count": 7,
   "metadata": {},
   "outputs": [
    {
     "data": {
      "image/png": "[encoded data removed]",
      "text/plain": [
       "<matplotlib.figure.Figure at 0x1ccf1cdc240>"
      ]
     },
     "metadata": {},
     "output_type": "display_data"
    }
   ],
   "source": [
    "plt.figure(1)\n",
    "plt.subplot(211)\n",
    "sp1=plt.plot(norm_seq[:,0])\n",
    "plt.setp(sp1,color='g')\n",
    "plt.ylabel('normalized price')\n",
    "\n",
    "plt.subplot(212)\n",
    "plt.plot(norm_seq[:,1])\n",
    "plt.xlabel('time period')\n",
    "plt.ylabel('normalized trend')\n",
    "plt.show()"
   ]
  },
  {
   "cell_type": "code",
   "execution_count": 8,
   "metadata": {
    "collapsed": true
   },
   "outputs": [],
   "source": [
    "window_size=20"
   ]
  },
  {
   "cell_type": "code",
   "execution_count": 9,
   "metadata": {
    "collapsed": true
   },
   "outputs": [],
   "source": [
    "def data_preprocessing(seq, window_size):\n",
    "    x=[]\n",
    "    y=[]\n",
    "    for i in range(len(seq[:,0])-window_size):\n",
    "        x.append(seq[i:i+window_size,:])\n",
    "        y.append(seq[i+window_size,0])\n",
    "    x=np.array(x)\n",
    "    x=np.reshape(x,(len(seq[:,0])-window_size,window_size,-1))\n",
    "    y=np.array(y)\n",
    "    y=np.reshape(y,(-1,1))\n",
    "    return x,y \n",
    "    "
   ]
  },
  {
   "cell_type": "code",
   "execution_count": 10,
   "metadata": {},
   "outputs": [
    {
     "name": "stdout",
     "output_type": "stream",
     "text": [
      "(19756, 20, 3)\n",
      "(19756, 1)\n"
     ]
    }
   ],
   "source": [
    "x,y=data_preprocessing(norm_seq, window_size)\n",
    "print(x.shape)\n",
    "print(y.shape)"
   ]
  },
  {
   "cell_type": "code",
   "execution_count": 11,
   "metadata": {},
   "outputs": [
    {
     "name": "stdout",
     "output_type": "stream",
     "text": [
      "(17780, 20, 3)\n",
      "(17780, 1)\n",
      "(1976, 20, 3)\n",
      "(1976, 1)\n"
     ]
    },
    {
     "name": "stderr",
     "output_type": "stream",
     "text": [
      "C:\\Users\\fluo\\AppData\\Local\\Continuum\\anaconda3\\lib\\site-packages\\sklearn\\model_selection\\_split.py:2026: FutureWarning: From version 0.21, test_size will always complement train_size unless both are specified.\n",
      "  FutureWarning)\n"
     ]
    }
   ],
   "source": [
    "from sklearn.model_selection import train_test_split\n",
    "split_ratio=0.9\n",
    "train_X, test_X, train_Y, test_Y=train_test_split(x, y, train_size=split_ratio,shuffle=True)\n",
    "print(train_X.shape)\n",
    "print(train_Y.shape)\n",
    "print(test_X.shape)\n",
    "print(test_Y.shape)"
   ]
  },
  {
   "cell_type": "code",
   "execution_count": 12,
   "metadata": {
    "collapsed": true
   },
   "outputs": [],
   "source": [
    "def model(input_shape):\n",
    "    \n",
    "    X_input=Input(shape=input_shape)\n",
    "    \n",
    "    X=LSTM(5)(X_input)\n",
    "    X=Dense(1)(X)\n",
    "    \n",
    "    model=Model(inputs=X_input, outputs=X)\n",
    "    \n",
    "    return model"
   ]
  },
  {
   "cell_type": "code",
   "execution_count": 13,
   "metadata": {},
   "outputs": [],
   "source": [
    "import keras.backend as K\n",
    "def thresheld_accuracy(y_true,y_pred):\n",
    "    \n",
    "    allowed_error=0.01\n",
    "    y_error=K.abs(y_pred-y_true)/y_true\n",
    "    print(y_error)\n",
    "    y_within_error=y_error<=allowed_error\n",
    "    y_standard=(y_true>float(\"-inf\"))\n",
    "    print(y_within_error)\n",
    "    print(y_standard)\n",
    "    accuracy=K.sum(K.cast(y_within_error,dtype='int8'))/K.sum(K.cast(y_standard,dtype='int8'))\n",
    "    \n",
    "    return accuracy"
   ]
  },
  {
   "cell_type": "code",
   "execution_count": 14,
   "metadata": {},
   "outputs": [
    {
     "name": "stdout",
     "output_type": "stream",
     "text": [
      "Tensor(\"metrics/thresheld_accuracy/truediv:0\", shape=(?, ?), dtype=float32)\n",
      "Tensor(\"metrics/thresheld_accuracy/LessEqual:0\", shape=(?, ?), dtype=bool)\n",
      "Tensor(\"metrics/thresheld_accuracy/Greater:0\", shape=(?, ?), dtype=bool)\n"
     ]
    }
   ],
   "source": [
    "from keras.callbacks import ModelCheckpoint\n",
    "model=model(input_shape=(window_size,3))\n",
    "opt=Adam(lr=0.003)\n",
    "filepath=\"Checkpoints/weights-improvement-{epoch:03d}-{thresheld_accuracy:.2f}.hdf5\"\n",
    "checkpoint = ModelCheckpoint(filepath, monitor='thresheld_accuracy', verbose=1, save_best_only=True, mode='max')\n",
    "callbacks_list = [checkpoint]\n",
    "model.compile(loss='mean_squared_error',optimizer=opt,metrics=[thresheld_accuracy])"
   ]
  },
  {
   "cell_type": "code",
   "execution_count": 15,
   "metadata": {},
   "outputs": [
    {
     "name": "stdout",
     "output_type": "stream",
     "text": [
      "(17780, 20, 1)\n"
     ]
    }
   ],
   "source": [
    "train_X_1D=train_X[:,:,0]\n",
    "train_X_1D=np.reshape(train_X_1D,(train_X_1D.shape[0],train_X_1D.shape[1],1))\n",
    "print(train_X_1D.shape)"
   ]
  },
  {
   "cell_type": "code",
   "execution_count": 16,
   "metadata": {},
   "outputs": [
    {
     "name": "stdout",
     "output_type": "stream",
     "text": [
      "Epoch 1/40\n",
      "17728/17780 [============================>.] - ETA: 0s - loss: 0.0020 - thresheld_accuracy: 0.0644Epoch 00001: thresheld_accuracy improved from -inf to 0.06445, saving model to Checkpoints/weights-improvement-001-0.06.hdf5\n",
      "17780/17780 [==============================] - 5s 263us/step - loss: 0.0020 - thresheld_accuracy: 0.0645\n",
      "Epoch 2/40\n",
      "17536/17780 [============================>.] - ETA: 0s - loss: 8.7584e-05 - thresheld_accuracy: 0.1093Epoch 00002: thresheld_accuracy improved from 0.06445 to 0.10939, saving model to Checkpoints/weights-improvement-002-0.11.hdf5\n",
      "17780/17780 [==============================] - 4s 222us/step - loss: 8.7056e-05 - thresheld_accuracy: 0.1094\n",
      "Epoch 3/40\n",
      "17536/17780 [============================>.] - ETA: 0s - loss: 6.4539e-05 - thresheld_accuracy: 0.1268Epoch 00003: thresheld_accuracy improved from 0.10939 to 0.12621, saving model to Checkpoints/weights-improvement-003-0.13.hdf5\n",
      "17780/17780 [==============================] - 4s 222us/step - loss: 6.4347e-05 - thresheld_accuracy: 0.1262\n",
      "Epoch 4/40\n",
      "17728/17780 [============================>.] - ETA: 0s - loss: 5.4403e-05 - thresheld_accuracy: 0.1483Epoch 00004: thresheld_accuracy improved from 0.12621 to 0.14843, saving model to Checkpoints/weights-improvement-004-0.15.hdf5\n",
      "17780/17780 [==============================] - 4s 224us/step - loss: 5.4315e-05 - thresheld_accuracy: 0.1484\n",
      "Epoch 5/40\n",
      "17728/17780 [============================>.] - ETA: 0s - loss: 4.5986e-05 - thresheld_accuracy: 0.1636Epoch 00005: thresheld_accuracy improved from 0.14843 to 0.16378, saving model to Checkpoints/weights-improvement-005-0.16.hdf5\n",
      "17780/17780 [==============================] - 4s 217us/step - loss: 4.5882e-05 - thresheld_accuracy: 0.1638\n",
      "Epoch 6/40\n",
      "17536/17780 [============================>.] - ETA: 0s - loss: 4.3416e-05 - thresheld_accuracy: 0.1646Epoch 00006: thresheld_accuracy improved from 0.16378 to 0.16524, saving model to Checkpoints/weights-improvement-006-0.17.hdf5\n",
      "17780/17780 [==============================] - 4s 220us/step - loss: 4.3588e-05 - thresheld_accuracy: 0.1652\n",
      "Epoch 7/40\n",
      "17728/17780 [============================>.] - ETA: 0s - loss: 3.9270e-05 - thresheld_accuracy: 0.1789Epoch 00007: thresheld_accuracy improved from 0.16524 to 0.17908, saving model to Checkpoints/weights-improvement-007-0.18.hdf5\n",
      "17780/17780 [==============================] - 4s 221us/step - loss: 3.9248e-05 - thresheld_accuracy: 0.1791\n",
      "Epoch 8/40\n",
      "17728/17780 [============================>.] - ETA: 0s - loss: 3.5934e-05 - thresheld_accuracy: 0.1948Epoch 00008: thresheld_accuracy improved from 0.17908 to 0.19466, saving model to Checkpoints/weights-improvement-008-0.19.hdf5\n",
      "17780/17780 [==============================] - 4s 224us/step - loss: 3.5916e-05 - thresheld_accuracy: 0.1947\n",
      "Epoch 9/40\n",
      "17728/17780 [============================>.] - ETA: 0s - loss: 3.4807e-05 - thresheld_accuracy: 0.1947Epoch 00009: thresheld_accuracy did not improve\n",
      "17780/17780 [==============================] - 4s 216us/step - loss: 3.4757e-05 - thresheld_accuracy: 0.1947\n",
      "Epoch 10/40\n",
      "17664/17780 [============================>.] - ETA: 0s - loss: 3.3291e-05 - thresheld_accuracy: 0.2043Epoch 00010: thresheld_accuracy improved from 0.19466 to 0.20461, saving model to Checkpoints/weights-improvement-010-0.20.hdf5\n",
      "17780/17780 [==============================] - 4s 216us/step - loss: 3.3405e-05 - thresheld_accuracy: 0.2046\n",
      "Epoch 11/40\n",
      "17728/17780 [============================>.] - ETA: 0s - loss: 3.1480e-05 - thresheld_accuracy: 0.1961Epoch 00011: thresheld_accuracy did not improve\n",
      "17780/17780 [==============================] - 4s 220us/step - loss: 3.1498e-05 - thresheld_accuracy: 0.1961\n",
      "Epoch 12/40\n",
      "17536/17780 [============================>.] - ETA: 0s - loss: 3.1234e-05 - thresheld_accuracy: 0.2107Epoch 00012: thresheld_accuracy improved from 0.20461 to 0.21114, saving model to Checkpoints/weights-improvement-012-0.21.hdf5\n",
      "17780/17780 [==============================] - 4s 231us/step - loss: 3.1261e-05 - thresheld_accuracy: 0.2111\n",
      "Epoch 13/40\n",
      "17600/17780 [============================>.] - ETA: 0s - loss: 2.8459e-05 - thresheld_accuracy: 0.2276Epoch 00013: thresheld_accuracy improved from 0.21114 to 0.22666, saving model to Checkpoints/weights-improvement-013-0.23.hdf5\n",
      "17780/17780 [==============================] - 4s 223us/step - loss: 2.8569e-05 - thresheld_accuracy: 0.2267\n",
      "Epoch 14/40\n",
      "17664/17780 [============================>.] - ETA: 0s - loss: 3.0594e-05 - thresheld_accuracy: 0.2035Epoch 00014: thresheld_accuracy did not improve\n",
      "17780/17780 [==============================] - 4s 217us/step - loss: 3.0577e-05 - thresheld_accuracy: 0.2029\n",
      "Epoch 15/40\n",
      "17600/17780 [============================>.] - ETA: 0s - loss: 2.6566e-05 - thresheld_accuracy: 0.2385Epoch 00015: thresheld_accuracy improved from 0.22666 to 0.23723, saving model to Checkpoints/weights-improvement-015-0.24.hdf5\n",
      "17780/17780 [==============================] - 4s 222us/step - loss: 2.6667e-05 - thresheld_accuracy: 0.2372\n",
      "Epoch 16/40\n",
      "17600/17780 [============================>.] - ETA: 0s - loss: 2.6553e-05 - thresheld_accuracy: 0.2452Epoch 00016: thresheld_accuracy improved from 0.23723 to 0.24404, saving model to Checkpoints/weights-improvement-016-0.24.hdf5\n",
      "17780/17780 [==============================] - 4s 231us/step - loss: 2.6609e-05 - thresheld_accuracy: 0.2440\n",
      "Epoch 17/40\n",
      "17664/17780 [============================>.] - ETA: 0s - loss: 2.5126e-05 - thresheld_accuracy: 0.2589Epoch 00017: thresheld_accuracy improved from 0.24404 to 0.25928, saving model to Checkpoints/weights-improvement-017-0.26.hdf5\n",
      "17780/17780 [==============================] - 4s 220us/step - loss: 2.5183e-05 - thresheld_accuracy: 0.2593\n",
      "Epoch 18/40\n",
      "17664/17780 [============================>.] - ETA: 0s - loss: 2.5232e-05 - thresheld_accuracy: 0.2454Epoch 00018: thresheld_accuracy did not improve\n",
      "17780/17780 [==============================] - 4s 226us/step - loss: 2.5302e-05 - thresheld_accuracy: 0.2446\n",
      "Epoch 19/40\n",
      "17728/17780 [============================>.] - ETA: 0s - loss: 2.5396e-05 - thresheld_accuracy: 0.2406Epoch 00019: thresheld_accuracy did not improve\n",
      "17780/17780 [==============================] - 4s 220us/step - loss: 2.5390e-05 - thresheld_accuracy: 0.2407\n",
      "Epoch 20/40\n",
      "17600/17780 [============================>.] - ETA: 0s - loss: 2.3784e-05 - thresheld_accuracy: 0.2591Epoch 00020: thresheld_accuracy improved from 0.25928 to 0.26063, saving model to Checkpoints/weights-improvement-020-0.26.hdf5\n",
      "17780/17780 [==============================] - 4s 232us/step - loss: 2.3801e-05 - thresheld_accuracy: 0.2606\n",
      "Epoch 21/40\n",
      "17728/17780 [============================>.] - ETA: 0s - loss: 2.5277e-05 - thresheld_accuracy: 0.2346Epoch 00021: thresheld_accuracy did not improve\n",
      "17780/17780 [==============================] - 4s 214us/step - loss: 2.5288e-05 - thresheld_accuracy: 0.2348\n",
      "Epoch 22/40\n",
      "17536/17780 [============================>.] - ETA: 0s - loss: 2.3223e-05 - thresheld_accuracy: 0.2531Epoch 00022: thresheld_accuracy did not improve\n",
      "17780/17780 [==============================] - 4s 216us/step - loss: 2.3332e-05 - thresheld_accuracy: 0.2535\n",
      "Epoch 23/40\n",
      "17664/17780 [============================>.] - ETA: 0s - loss: 2.3962e-05 - thresheld_accuracy: 0.2506Epoch 00023: thresheld_accuracy did not improve\n",
      "17780/17780 [==============================] - 4s 222us/step - loss: 2.3947e-05 - thresheld_accuracy: 0.2499\n",
      "Epoch 24/40\n",
      "17664/17780 [============================>.] - ETA: 0s - loss: 2.3396e-05 - thresheld_accuracy: 0.2420Epoch 00024: thresheld_accuracy did not improve\n",
      "17780/17780 [==============================] - 4s 230us/step - loss: 2.3310e-05 - thresheld_accuracy: 0.2422\n",
      "Epoch 25/40\n",
      "17728/17780 [============================>.] - ETA: 0s - loss: 2.2867e-05 - thresheld_accuracy: 0.2647Epoch 00025: thresheld_accuracy improved from 0.26063 to 0.26485, saving model to Checkpoints/weights-improvement-025-0.26.hdf5\n",
      "17780/17780 [==============================] - 4s 217us/step - loss: 2.2839e-05 - thresheld_accuracy: 0.2648\n",
      "Epoch 26/40\n",
      "17728/17780 [============================>.] - ETA: 0s - loss: 2.3690e-05 - thresheld_accuracy: 0.2401Epoch 00026: thresheld_accuracy did not improve\n",
      "17780/17780 [==============================] - 4s 218us/step - loss: 2.3662e-05 - thresheld_accuracy: 0.2401\n"
     ]
    },
    {
     "name": "stdout",
     "output_type": "stream",
     "text": [
      "Epoch 27/40\n",
      "17664/17780 [============================>.] - ETA: 0s - loss: 2.2582e-05 - thresheld_accuracy: 0.2527Epoch 00027: thresheld_accuracy did not improve\n",
      "17780/17780 [==============================] - 4s 216us/step - loss: 2.2721e-05 - thresheld_accuracy: 0.2525\n",
      "Epoch 28/40\n",
      "17536/17780 [============================>.] - ETA: 0s - loss: 2.3742e-05 - thresheld_accuracy: 0.2400Epoch 00028: thresheld_accuracy did not improve\n",
      "17780/17780 [==============================] - 4s 244us/step - loss: 2.3545e-05 - thresheld_accuracy: 0.2422\n",
      "Epoch 29/40\n",
      "17664/17780 [============================>.] - ETA: 0s - loss: 2.1811e-05 - thresheld_accuracy: 0.2603Epoch 00029: thresheld_accuracy did not improve\n",
      "17780/17780 [==============================] - 4s 222us/step - loss: 2.1761e-05 - thresheld_accuracy: 0.2606\n",
      "Epoch 30/40\n",
      "17664/17780 [============================>.] - ETA: 0s - loss: 2.3400e-05 - thresheld_accuracy: 0.2554Epoch 00030: thresheld_accuracy did not improve\n",
      "17780/17780 [==============================] - 4s 227us/step - loss: 2.3443e-05 - thresheld_accuracy: 0.2552\n",
      "Epoch 31/40\n",
      "17728/17780 [============================>.] - ETA: 0s - loss: 2.2561e-05 - thresheld_accuracy: 0.2454Epoch 00031: thresheld_accuracy did not improve\n",
      "17780/17780 [==============================] - 4s 206us/step - loss: 2.2516e-05 - thresheld_accuracy: 0.2462\n",
      "Epoch 32/40\n",
      "17664/17780 [============================>.] - ETA: 0s - loss: 2.1370e-05 - thresheld_accuracy: 0.2711Epoch 00032: thresheld_accuracy improved from 0.26485 to 0.27115, saving model to Checkpoints/weights-improvement-032-0.27.hdf5\n",
      "17780/17780 [==============================] - 4s 207us/step - loss: 2.1301e-05 - thresheld_accuracy: 0.2711\n",
      "Epoch 33/40\n",
      "17664/17780 [============================>.] - ETA: 0s - loss: 2.1045e-05 - thresheld_accuracy: 0.2717Epoch 00033: thresheld_accuracy did not improve\n",
      "17780/17780 [==============================] - 3s 197us/step - loss: 2.1161e-05 - thresheld_accuracy: 0.2709\n",
      "Epoch 34/40\n",
      "17472/17780 [============================>.] - ETA: 0s - loss: 2.2383e-05 - thresheld_accuracy: 0.2586Epoch 00034: thresheld_accuracy did not improve\n",
      "17780/17780 [==============================] - 3s 195us/step - loss: 2.2282e-05 - thresheld_accuracy: 0.2585\n",
      "Epoch 35/40\n",
      "17728/17780 [============================>.] - ETA: 0s - loss: 2.1486e-05 - thresheld_accuracy: 0.2699Epoch 00035: thresheld_accuracy did not improve\n",
      "17780/17780 [==============================] - 3s 194us/step - loss: 2.1456e-05 - thresheld_accuracy: 0.2696\n",
      "Epoch 36/40\n",
      "17600/17780 [============================>.] - ETA: 0s - loss: 2.0352e-05 - thresheld_accuracy: 0.2895Epoch 00036: thresheld_accuracy improved from 0.27115 to 0.29038, saving model to Checkpoints/weights-improvement-036-0.29.hdf5\n",
      "17780/17780 [==============================] - 4s 203us/step - loss: 2.0367e-05 - thresheld_accuracy: 0.2904\n",
      "Epoch 37/40\n",
      "17600/17780 [============================>.] - ETA: 0s - loss: 2.1382e-05 - thresheld_accuracy: 0.2601Epoch 00037: thresheld_accuracy did not improve\n",
      "17780/17780 [==============================] - 4s 202us/step - loss: 2.1343e-05 - thresheld_accuracy: 0.2597\n",
      "Epoch 38/40\n",
      "17600/17780 [============================>.] - ETA: 0s - loss: 1.9754e-05 - thresheld_accuracy: 0.3013Epoch 00038: thresheld_accuracy improved from 0.29038 to 0.30141, saving model to Checkpoints/weights-improvement-038-0.30.hdf5\n",
      "17780/17780 [==============================] - 4s 232us/step - loss: 1.9633e-05 - thresheld_accuracy: 0.3014\n",
      "Epoch 39/40\n",
      "17728/17780 [============================>.] - ETA: 0s - loss: 2.0996e-05 - thresheld_accuracy: 0.2639Epoch 00039: thresheld_accuracy did not improve\n",
      "17780/17780 [==============================] - 4s 208us/step - loss: 2.1007e-05 - thresheld_accuracy: 0.2647\n",
      "Epoch 40/40\n",
      "17664/17780 [============================>.] - ETA: 0s - loss: 2.1163e-05 - thresheld_accuracy: 0.2524Epoch 00040: thresheld_accuracy did not improve\n",
      "17780/17780 [==============================] - 4s 207us/step - loss: 2.1245e-05 - thresheld_accuracy: 0.2519\n"
     ]
    }
   ],
   "source": [
    "history=model.fit(train_X, train_Y, epochs=40, batch_size=64,callbacks=callbacks_list,verbose=1)"
   ]
  },
  {
   "cell_type": "code",
   "execution_count": 17,
   "metadata": {},
   "outputs": [
    {
     "data": {
      "image/png": "[encoded data removed]",
      "text/plain": [
       "<matplotlib.figure.Figure at 0x1ccf5bb1b38>"
      ]
     },
     "metadata": {},
     "output_type": "display_data"
    },
    {
     "data": {
      "image/png": "[encoded data removed]",
      "text/plain": [
       "<matplotlib.figure.Figure at 0x1ccf61dfdd8>"
      ]
     },
     "metadata": {},
     "output_type": "display_data"
    }
   ],
   "source": [
    "plt.figure(1)\n",
    "plt.plot(history.history['loss'])\n",
    "plt.title('model loss')\n",
    "plt.ylabel('loss')\n",
    "plt.xlabel('epoch')\n",
    "plt.figure(2)\n",
    "plt.plot(history.history['thresheld_accuracy'])\n",
    "plt.title('model accuracy')\n",
    "plt.ylabel('accuracy')\n",
    "plt.xlabel('epoch')\n",
    "\n",
    "plt.show()"
   ]
  },
  {
   "cell_type": "code",
   "execution_count": 18,
   "metadata": {},
   "outputs": [
    {
     "name": "stdout",
     "output_type": "stream",
     "text": [
      "Tensor(\"metrics_1/thresheld_accuracy/truediv:0\", shape=(?, ?), dtype=float32)\n",
      "Tensor(\"metrics_1/thresheld_accuracy/LessEqual:0\", shape=(?, ?), dtype=bool)\n",
      "Tensor(\"metrics_1/thresheld_accuracy/Greater:0\", shape=(?, ?), dtype=bool)\n",
      "model loaded\n"
     ]
    }
   ],
   "source": [
    "best_model=load_model(\"Checkpoints/weights-improvement-038-0.30.hdf5\",custom_objects={'thresheld_accuracy':thresheld_accuracy})\n",
    "print(\"model loaded\")"
   ]
  },
  {
   "cell_type": "code",
   "execution_count": 19,
   "metadata": {},
   "outputs": [
    {
     "name": "stdout",
     "output_type": "stream",
     "text": [
      "['loss', 'thresheld_accuracy']\n"
     ]
    }
   ],
   "source": [
    "print(best_model.metrics_names)"
   ]
  },
  {
   "cell_type": "code",
   "execution_count": 20,
   "metadata": {},
   "outputs": [
    {
     "name": "stdout",
     "output_type": "stream",
     "text": [
      "1976/1976 [==============================] - 0s 96us/step\n",
      "Test set accuracy =  0.203947368602\n"
     ]
    }
   ],
   "source": [
    "score_test = best_model.evaluate(test_X, test_Y,batch_size=64)\n",
    "print(\"Test set accuracy = \", score_test[1])"
   ]
  },
  {
   "cell_type": "code",
   "execution_count": 21,
   "metadata": {},
   "outputs": [
    {
     "name": "stdout",
     "output_type": "stream",
     "text": [
      "17780/17780 [==============================] - 1s 46us/step\n",
      "Train set accuracy =  0.220078740164\n",
      "Train set loss =  1.9114763294e-05\n"
     ]
    }
   ],
   "source": [
    "score_train = best_model.evaluate(train_X, train_Y,batch_size=64)\n",
    "print(\"Train set accuracy = \", score_train[1])\n",
    "print(\"Train set loss = \", score_train[0])"
   ]
  },
  {
   "cell_type": "code",
   "execution_count": null,
   "metadata": {
    "collapsed": true
   },
   "outputs": [],
   "source": []
  }
 ],
 "metadata": {
  "kernelspec": {
   "display_name": "Python 3",
   "language": "python",
   "name": "python3"
  },
  "language_info": {
   "codemirror_mode": {
    "name": "ipython",
    "version": 3
   },
   "file_extension": ".py",
   "mimetype": "text/x-python",
   "name": "python",
   "nbconvert_exporter": "python",
   "pygments_lexer": "ipython3",
   "version": "3.6.3"
  }
 },
 "nbformat": 4,
 "nbformat_minor": 2
}
